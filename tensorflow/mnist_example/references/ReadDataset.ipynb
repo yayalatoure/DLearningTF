{
 "cells": [
  {
   "cell_type": "code",
   "execution_count": 1,
   "metadata": {},
   "outputs": [
    {
     "name": "stderr",
     "output_type": "stream",
     "text": [
      "C:\\Users\\lalo\\Anaconda2\\envs\\tensorflow\\lib\\site-packages\\h5py\\__init__.py:36: FutureWarning: Conversion of the second argument of issubdtype from `float` to `np.floating` is deprecated. In future, it will be treated as `np.float64 == np.dtype(float).type`.\n",
      "  from ._conv import register_converters as _register_converters\n"
     ]
    }
   ],
   "source": []
  },
  {
   "cell_type": "code",
   "execution_count": null,
   "metadata": {},
   "outputs": [],
   "source": [
    "# -*- coding: utf-8 -*-\n",
    "# =============================================================================\n",
    "# Modules\n",
    "# =============================================================================\n",
    "\n",
    "# Import required libraries\n",
    "import h5py as h5\n",
    "import numpy as np\n",
    "import matplotlib.pyplot as plt\n",
    "import tensorflow as tf\n",
    "from tensorflow.contrib.data import Dataset, Iterator\n",
    "\n",
    "\n",
    "# =============================================================================\n",
    "# Functions for read and formating data\n",
    "# =============================================================================\n",
    "\n",
    "def read_data(path):\n",
    "    \n",
    "    # Read H5 file\n",
    "    f = h5.File(path, \"r\")\n",
    "    # Get and print list of datasets within the H5 file\n",
    "    datasetNames = [n for n in f.keys()]\n",
    "    for n in datasetNames:\n",
    "        print(n)  \n",
    "        \n",
    "    return f\n",
    "\n",
    "\n",
    "\n",
    "def formating(f, Tsize, Esize):\n",
    "\n",
    "    # input: f -> h5.file object\n",
    "        \n",
    "    Ids = f['eventids']\n",
    "    hits_u = f['hits-u-minerva13Cmc']\n",
    "    hits_v = f['hits-v-minerva13Cmc']\n",
    "    hits_x = f['hits-x-minerva13Cmc']\n",
    "    plane_c = f['planecodes']\n",
    "    segments = f['segments']\n",
    "    zs = f['zs']\n",
    "        \n",
    "    # shuffle dataset\n",
    "    perm = np.arange(Tsize + Esize)\n",
    "    np.random.shuffle(perm)\n",
    "    \n",
    "    hits_x  = hits_x[perm]\n",
    "    plane_c = plane_c[perm]\n",
    "    \n",
    "    # training and evaluation planes hits_x\n",
    "    hitsx_train = hits_x[0:Tsize]\n",
    "    hitsx_eval  = hits_x[Tsize: ]\n",
    "\n",
    "    # training and evaluation labels\n",
    "    planec_train = plane_c[0:Tsize]\n",
    "    planec_eval  = plane_c[Tsize: ]\n",
    "        \n",
    "    return hitsx_train, planec_train, hitsx_eval, planec_eval\n",
    "\n",
    "\n",
    "# =============================================================================\n",
    "# TensorDataset\n",
    "# =============================================================================\n",
    "\n"
   ]
  },
  {
   "cell_type": "code",
   "execution_count": null,
   "metadata": {},
   "outputs": [],
   "source": [
    "class TensorDataset(object):\n",
    "    # Inicialización\n",
    "    def __init__(self,\n",
    "               images,\n",
    "               labels,\n",
    "               one_hot=False,\n",
    "               dtype=dtypes.float32,\n",
    "               reshape=True,\n",
    "               seed=None):\n",
    "        \n",
    "    assert images.shape[0] == labels.shape[0], (\n",
    "        'images.shape: %s labels.shape: %s' % (images.shape, labels.shape))\n",
    "    self._num_examples = images.shape[0]\n",
    "\n",
    "    self._images = images\n",
    "    self._labels = labels\n",
    "    self._epochs_completed = 0\n",
    "    self._index_in_epoch = 0\n",
    "        \n",
    "        \n",
    "\n",
    "    @property\n",
    "    def images(self):\n",
    "        return self._images\n",
    "\n",
    "    @property\n",
    "    def labels(self):\n",
    "        return self._labels\n",
    "\n",
    "    @property\n",
    "    def num_examples(self):\n",
    "        return self._num_examples\n",
    "        \n",
    "        \n",
    "        \n",
    "    return 0\n",
    "\n"
   ]
  },
  {
   "cell_type": "code",
   "execution_count": 3,
   "metadata": {},
   "outputs": [
    {
     "data": {
      "text/plain": [
       "array([0, 1, 2])"
      ]
     },
     "execution_count": 3,
     "metadata": {},
     "output_type": "execute_result"
    }
   ],
   "source": [
    "np.arange(3)"
   ]
  },
  {
   "cell_type": "code",
   "execution_count": 2,
   "metadata": {},
   "outputs": [
    {
     "name": "stdout",
     "output_type": "stream",
     "text": [
      "eventids\n",
      "hits-u-minerva13Cmc\n",
      "hits-v-minerva13Cmc\n",
      "hits-x-minerva13Cmc\n",
      "planecodes\n",
      "segments\n",
      "zs\n",
      "size hits_u:  (127, 25)\n",
      "size hits_v:  (127, 25)\n",
      "size hits_x:  (127, 50)\n",
      "\n",
      " Plane_c:  [39 66 66 66 27 66 66 66 25  0 66  9 66 66 44 66 66 27 66 66]\n",
      "\n",
      " Segments:  [ 8 10 10 10  3 10 10 10  7  8 10  1 10 10  4 10 10  3 10 10]\n",
      "\n",
      " Zs:  [5521.26 7676.63 8295.08 6994.77 4908.55 7852.71 7142.86 8085.82 4859.49\n",
      " 5366.48 6829.87 4487.53 7481.46 8022.59 5644.69 7533.27 6261.48 4927.48\n",
      " 7774.12 6868.8 ]\n"
     ]
    },
    {
     "data": {
      "text/plain": [
       "Text(0.5,1,'hits_x image')"
      ]
     },
     "execution_count": 2,
     "metadata": {},
     "output_type": "execute_result"
    },
    {
     "data": {
      "image/png": "[encoded data removed]",
      "text/plain": [
       "<matplotlib.figure.Figure at 0x17e3f860a58>"
      ]
     },
     "metadata": {},
     "output_type": "display_data"
    }
   ],
   "source": [
    "# Read H5 file\n",
    "f = h5.File(\"dataset_minerva.hdf5\", \"r\")\n",
    "# Get and print list of datasets within the H5 file\n",
    "datasetNames = [n for n in f.keys()]\n",
    "for n in datasetNames:\n",
    "    print(n)\n",
    "    \n",
    "Ids = f['eventids']\n",
    "hits_u = f['hits-u-minerva13Cmc']\n",
    "hits_v = f['hits-v-minerva13Cmc']\n",
    "hits_x = f['hits-x-minerva13Cmc']\n",
    "plane_c = f['planecodes']\n",
    "segments = f['segments']\n",
    "zs = f['zs']\n",
    "\n",
    "N = 104\n",
    "Imu = hits_u[N][0]\n",
    "Imv = hits_v[N][0]\n",
    "Imx = hits_x[N][0]\n",
    "print ('size hits_u: ', np.shape(Imu))\n",
    "print ('size hits_v: ', np.shape(Imv))\n",
    "print ('size hits_x: ', np.shape(Imx))\n",
    "\n",
    "\n",
    "P = plane_c[0:20]\n",
    "print ('\\n Plane_c: ',P)\n",
    "\n",
    "Seg = segments[0:20]\n",
    "print ('\\n Segments: ', Seg)\n",
    "\n",
    "ZS = zs[0:20]\n",
    "print ('\\n Zs: ',ZS)\n",
    "\n",
    "fig = plt.figure(figsize=(14, 10))\n",
    "f1 = fig.add_subplot(131);f1.imshow(Imu);f1.set_title('hits_u image')\n",
    "f2 = fig.add_subplot(132);f2.imshow(Imv);f2.set_title('hits_v image')\n",
    "f3 = fig.add_subplot(133);f3.imshow(Imx);f3.set_title('hits_x image')"
   ]
  },
  {
   "cell_type": "code",
   "execution_count": 3,
   "metadata": {},
   "outputs": [],
   "source": [
    "hits_x = np.squeeze(hits_x, axis=1)"
   ]
  },
  {
   "cell_type": "code",
   "execution_count": 4,
   "metadata": {},
   "outputs": [
    {
     "name": "stdout",
     "output_type": "stream",
     "text": [
      "\n",
      "Type of training data vectors\n",
      "hits_xtrain_tf:  (40000, 127, 50) <class 'tensorflow.python.framework.ops.Tensor'>\n",
      "plane_ctrain_tf:  (40000,) <class 'tensorflow.python.framework.ops.Tensor'>\n",
      "{'hits_xtrain': tf.float32, 'plane_ctrain': tf.float32}\n",
      "{'hits_xtrain': TensorShape([Dimension(127), Dimension(50)]), 'plane_ctrain': TensorShape([])}\n"
     ]
    }
   ],
   "source": [
    "Tsize = 40000\n",
    "Esize = 10000\n",
    "# training and evaluation planes hits_x\n",
    "hits_xtrain = hits_x[0:Tsize]\n",
    "hits_xeval  = hits_x[Tsize: ]\n",
    "\n",
    "# training and evaluation labels\n",
    "plane_ctrain = plane_c[0:Tsize]\n",
    "plane_ceval  = plane_c[Tsize: ]\n",
    " \n",
    "# define placeholders\n",
    "hits_xtrain_tf = tf.convert_to_tensor(hits_xtrain, np.float32)\n",
    "plane_ctrain_tf = tf.convert_to_tensor(plane_ctrain, np.float32)\n",
    "\n",
    "# review type of training data -> Tensors!\n",
    "print('\\nType of training data vectors')\n",
    "print('hits_xtrain_tf: ',np.shape(hits_xtrain_tf), type (hits_xtrain_tf))\n",
    "print('plane_ctrain_tf: ',np.shape(plane_ctrain_tf), type (plane_ctrain_tf))\n",
    "\n",
    "dataset = tf.data.Dataset.from_tensor_slices(\n",
    "   {\"hits_xtrain\": hits_xtrain_tf, \"plane_ctrain\": plane_ctrain_tf})\n",
    "\n",
    "print(dataset.output_types)  \n",
    "print(dataset.output_shapes) \n",
    "\n",
    "tr_data = dataset\n",
    "#tr_data = Dataset.from_tensor_slices((hits_xtrain_tf, plane_ctrain_tf))\n",
    "print(tr_data.output_types)  \n",
    "print(tr_data.output_shapes) "
   ]
  },
  {
   "cell_type": "code",
   "execution_count": 5,
   "metadata": {},
   "outputs": [
    {
     "name": "stdout",
     "output_type": "stream",
     "text": [
      "{'hits_xtrain': tf.float32, 'plane_ctrain': tf.float32}\n",
      "{'hits_xtrain': TensorShape([Dimension(127), Dimension(50)]), 'plane_ctrain': TensorShape([])}\n"
     ]
    }
   ],
   "source": []
  },
  {
   "cell_type": "code",
   "execution_count": 8,
   "metadata": {},
   "outputs": [
    {
     "name": "stdout",
     "output_type": "stream",
     "text": [
      "<BatchDataset shapes: {hits_xtrain: (?, 127, 50), plane_ctrain: (?,)}, types: {hits_xtrain: tf.float32, plane_ctrain: tf.float32}>\n"
     ]
    }
   ],
   "source": [
    "iterator = Iterator.from_structure(tr_data.output_types, tr_data.output_shapes)\n",
    "next_element = iterator.get_next()\n",
    "\n",
    "training_init_op = iterator.make_initializer(tr_data)\n",
    "batch_size = 5\n",
    "\n",
    "with tf.Session() as sess:\n",
    "\n",
    "    # initialize the iterator on the training data\n",
    "    sess.run(training_init_op)\n",
    "\n",
    "    batch = tr_data.batch(batch_size)\n",
    "    \n",
    "    print(batch)\n",
    "    #try:\n",
    "    #    elem = sess.run(next_element)\n",
    "    #    print(elem)\n",
    "    #except tf.errors.OutOfRangeError:\n",
    "    #    print(\"End of training dataset.\")\n",
    "    #    break"
   ]
  },
  {
   "cell_type": "code",
   "execution_count": 11,
   "metadata": {},
   "outputs": [
    {
     "ename": "AttributeError",
     "evalue": "'TensorSliceDataset' object has no attribute 'next_batch'",
     "output_type": "error",
     "traceback": [
      "\u001b[1;31m---------------------------------------------------------------------------\u001b[0m",
      "\u001b[1;31mAttributeError\u001b[0m                            Traceback (most recent call last)",
      "\u001b[1;32m<ipython-input-11-34082987ecbb>\u001b[0m in \u001b[0;36m<module>\u001b[1;34m()\u001b[0m\n\u001b[1;32m----> 1\u001b[1;33m \u001b[0mprint\u001b[0m\u001b[1;33m(\u001b[0m\u001b[0mtr_data\u001b[0m\u001b[1;33m.\u001b[0m\u001b[0mnext_batch\u001b[0m\u001b[1;33m(\u001b[0m\u001b[1;36m10\u001b[0m\u001b[1;33m)\u001b[0m\u001b[1;33m)\u001b[0m\u001b[1;33m\u001b[0m\u001b[0m\n\u001b[0m",
      "\u001b[1;31mAttributeError\u001b[0m: 'TensorSliceDataset' object has no attribute 'next_batch'"
     ]
    }
   ],
   "source": [
    "print(tr_data.next_batch(10))"
   ]
  },
  {
   "cell_type": "code",
   "execution_count": null,
   "metadata": {},
   "outputs": [],
   "source": [
    "\n",
    "\n",
    "\n",
    "\n",
    "\n",
    "\n",
    "\n",
    "\n",
    "\n",
    "\n",
    "\n",
    "\n",
    "\n",
    "\n",
    "\n",
    "\n",
    "\n"
   ]
  },
  {
   "cell_type": "code",
   "execution_count": null,
   "metadata": {},
   "outputs": [],
   "source": [
    "\n",
    "\n",
    "\n",
    "\n",
    "\n",
    "\n",
    "\n",
    "\n",
    "\n",
    "\n",
    "\n",
    "\n",
    "\n",
    "\n"
   ]
  },
  {
   "cell_type": "code",
   "execution_count": 9,
   "metadata": {},
   "outputs": [
    {
     "data": {
      "text/plain": [
       "<BatchDataset shapes: {hits_xtrain: (?, 127, 50), plane_ctrain: (?,)}, types: {hits_xtrain: tf.float32, plane_ctrain: tf.float32}>"
      ]
     },
     "execution_count": 9,
     "metadata": {},
     "output_type": "execute_result"
    }
   ],
   "source": [
    "type(dataset)\n",
    "\n",
    "batch = dataset.batch(10)\n",
    "batch"
   ]
  },
  {
   "cell_type": "code",
   "execution_count": 10,
   "metadata": {},
   "outputs": [
    {
     "ename": "NameError",
     "evalue": "name 'sess' is not defined",
     "output_type": "error",
     "traceback": [
      "\u001b[1;31m---------------------------------------------------------------------------\u001b[0m",
      "\u001b[1;31mNameError\u001b[0m                                 Traceback (most recent call last)",
      "\u001b[1;32m<ipython-input-10-0abfaa5f6ba5>\u001b[0m in \u001b[0;36m<module>\u001b[1;34m()\u001b[0m\n\u001b[0;32m      9\u001b[0m \u001b[0mnext_element\u001b[0m \u001b[1;33m=\u001b[0m \u001b[0miterator\u001b[0m\u001b[1;33m.\u001b[0m\u001b[0mget_next\u001b[0m\u001b[1;33m(\u001b[0m\u001b[1;33m)\u001b[0m\u001b[1;33m\u001b[0m\u001b[0m\n\u001b[0;32m     10\u001b[0m \u001b[1;33m\u001b[0m\u001b[0m\n\u001b[1;32m---> 11\u001b[1;33m \u001b[0mprint\u001b[0m\u001b[1;33m(\u001b[0m\u001b[0msess\u001b[0m\u001b[1;33m.\u001b[0m\u001b[0mrun\u001b[0m\u001b[1;33m(\u001b[0m\u001b[0mnext_element\u001b[0m\u001b[1;33m)\u001b[0m\u001b[1;33m)\u001b[0m  \u001b[1;31m# ==> ([0, 1, 2,   3],   [ 0, -1,  -2,  -3])\u001b[0m\u001b[1;33m\u001b[0m\u001b[0m\n\u001b[0m\u001b[0;32m     12\u001b[0m \u001b[0mprint\u001b[0m\u001b[1;33m(\u001b[0m\u001b[0msess\u001b[0m\u001b[1;33m.\u001b[0m\u001b[0mrun\u001b[0m\u001b[1;33m(\u001b[0m\u001b[0mnext_element\u001b[0m\u001b[1;33m)\u001b[0m\u001b[1;33m)\u001b[0m  \u001b[1;31m# ==> ([4, 5, 6,   7],   [-4, -5,  -6,  -7])\u001b[0m\u001b[1;33m\u001b[0m\u001b[0m\n\u001b[0;32m     13\u001b[0m \u001b[0mprint\u001b[0m\u001b[1;33m(\u001b[0m\u001b[0msess\u001b[0m\u001b[1;33m.\u001b[0m\u001b[0mrun\u001b[0m\u001b[1;33m(\u001b[0m\u001b[0mnext_element\u001b[0m\u001b[1;33m)\u001b[0m\u001b[1;33m)\u001b[0m  \u001b[1;31m# ==> ([8, 9, 10, 11],   [-8, -9, -10, -11])\u001b[0m\u001b[1;33m\u001b[0m\u001b[0m\n",
      "\u001b[1;31mNameError\u001b[0m: name 'sess' is not defined"
     ]
    }
   ],
   "source": [
    "\n",
    "\n",
    "inc_dataset = tf.data.Dataset.range(100)\n",
    "dec_dataset = tf.data.Dataset.range(0, -100, -1)\n",
    "dataset = tf.data.Dataset.zip((inc_dataset, dec_dataset))\n",
    "batched_dataset = dataset.batch(4)\n",
    "\n",
    "iterator = batched_dataset.make_one_shot_iterator()\n",
    "next_element = iterator.get_next()\n",
    "\n",
    "print(sess.run(next_element))  # ==> ([0, 1, 2,   3],   [ 0, -1,  -2,  -3])\n",
    "print(sess.run(next_element))  # ==> ([4, 5, 6,   7],   [-4, -5,  -6,  -7])\n",
    "print(sess.run(next_element))  # ==> ([8, 9, 10, 11],   [-8, -9, -10, -11])\n",
    "\n",
    "\n"
   ]
  },
  {
   "cell_type": "code",
   "execution_count": 13,
   "metadata": {},
   "outputs": [],
   "source": [
    "sess = tf.Session()\n",
    "\n",
    "dataset = tf.data.Dataset.range(10)\n",
    "iterator = dataset.make_one_shot_iterator()\n",
    "next_element = iterator.get_next()\n",
    "\n",
    "for i in range(5):\n",
    "    value = sess.run(next_element)\n",
    "    assert i == value"
   ]
  },
  {
   "cell_type": "code",
   "execution_count": 21,
   "metadata": {},
   "outputs": [
    {
     "ename": "AttributeError",
     "evalue": "'Dataset' object has no attribute 'batch'",
     "output_type": "error",
     "traceback": [
      "\u001b[1;31m---------------------------------------------------------------------------\u001b[0m",
      "\u001b[1;31mAttributeError\u001b[0m                            Traceback (most recent call last)",
      "\u001b[1;32m<ipython-input-21-832471e8700c>\u001b[0m in \u001b[0;36m<module>\u001b[1;34m()\u001b[0m\n\u001b[1;32m----> 1\u001b[1;33m \u001b[0mhits_u\u001b[0m\u001b[1;33m.\u001b[0m\u001b[0mbatch\u001b[0m\u001b[1;33m(\u001b[0m\u001b[1;36m10\u001b[0m\u001b[1;33m)\u001b[0m\u001b[1;33m\u001b[0m\u001b[0m\n\u001b[0m",
      "\u001b[1;31mAttributeError\u001b[0m: 'Dataset' object has no attribute 'batch'"
     ]
    }
   ],
   "source": [
    "\n",
    "\n",
    "\n",
    "\n",
    "\n",
    "\n",
    "\n",
    "\n",
    "\n",
    "\n",
    "\n",
    "\n",
    "\n",
    "\n",
    "\n",
    "\n",
    "\n",
    "\n",
    "\n",
    "\n",
    "\n",
    "\n",
    "\n",
    "\n",
    "\n",
    "\n",
    "\n",
    "\n",
    "\n"
   ]
  },
  {
   "cell_type": "code",
   "execution_count": 8,
   "metadata": {},
   "outputs": [
    {
     "data": {
      "text/plain": [
       "(50000,)"
      ]
     },
     "execution_count": 8,
     "metadata": {},
     "output_type": "execute_result"
    }
   ],
   "source": [
    "np.shape(zs)"
   ]
  },
  {
   "cell_type": "code",
   "execution_count": 9,
   "metadata": {},
   "outputs": [
    {
     "data": {
      "text/plain": [
       "8"
      ]
     },
     "execution_count": 9,
     "metadata": {},
     "output_type": "execute_result"
    }
   ],
   "source": [
    "segments[0]"
   ]
  },
  {
   "cell_type": "code",
   "execution_count": 23,
   "metadata": {},
   "outputs": [
    {
     "name": "stdout",
     "output_type": "stream",
     "text": [
      "[ 1.  2.  3.  4.  5.  6.  7.  8.  9. 10.] [-10.  -9.  -8.  -7.  -6.  -5.  -4.  -3.  -2.  -1.]\n"
     ]
    },
    {
     "data": {
      "text/plain": [
       "array([[-10.],\n",
       "       [ -9.],\n",
       "       [ -8.],\n",
       "       [ -7.],\n",
       "       [ -6.],\n",
       "       [ -5.],\n",
       "       [ -4.],\n",
       "       [ -3.],\n",
       "       [ -2.],\n",
       "       [ -1.]])"
      ]
     },
     "execution_count": 23,
     "metadata": {},
     "output_type": "execute_result"
    }
   ],
   "source": [
    "a = np.linspace(1,10,10)\n",
    "b = np.linspace(-10,-1,10)\n",
    "print (a, b) \n",
    "\n",
    "np.reshape(b,[10,1])"
   ]
  },
  {
   "cell_type": "code",
   "execution_count": 15,
   "metadata": {},
   "outputs": [],
   "source": [
    "c = [a, b]"
   ]
  },
  {
   "cell_type": "code",
   "execution_count": 16,
   "metadata": {},
   "outputs": [
    {
     "name": "stdout",
     "output_type": "stream",
     "text": [
      "[array([ 1.,  2.,  3.,  4.,  5.,  6.,  7.,  8.,  9., 10.]), array([-10.,  -9.,  -8.,  -7.,  -6.,  -5.,  -4.,  -3.,  -2.,  -1.])]\n"
     ]
    }
   ],
   "source": [
    "print(c)"
   ]
  },
  {
   "cell_type": "code",
   "execution_count": 20,
   "metadata": {},
   "outputs": [
    {
     "name": "stdout",
     "output_type": "stream",
     "text": [
      "Tensor(\"x_1:0\", shape=(2, 10), dtype=float32)\n"
     ]
    }
   ],
   "source": [
    "x = tf.placeholder(tf.float32, shape=[2, 10], name=\"x\")\n",
    "print(x)"
   ]
  },
  {
   "cell_type": "code",
   "execution_count": 21,
   "metadata": {},
   "outputs": [],
   "source": [
    "x = c"
   ]
  },
  {
   "cell_type": "code",
   "execution_count": 22,
   "metadata": {},
   "outputs": [
    {
     "name": "stdout",
     "output_type": "stream",
     "text": [
      "[array([ 1.,  2.,  3.,  4.,  5.,  6.,  7.,  8.,  9., 10.]), array([-10.,  -9.,  -8.,  -7.,  -6.,  -5.,  -4.,  -3.,  -2.,  -1.])]\n"
     ]
    }
   ],
   "source": [
    "print(x)"
   ]
  },
  {
   "cell_type": "code",
   "execution_count": null,
   "metadata": {},
   "outputs": [],
   "source": []
  }
 ],
 "metadata": {
  "kernelspec": {
   "display_name": "Python 3",
   "language": "python",
   "name": "python3"
  },
  "language_info": {
   "codemirror_mode": {
    "name": "ipython",
    "version": 3
   },
   "file_extension": ".py",
   "mimetype": "text/x-python",
   "name": "python",
   "nbconvert_exporter": "python",
   "pygments_lexer": "ipython3",
   "version": "3.5.4"
  }
 },
 "nbformat": 4,
 "nbformat_minor": 2
}
